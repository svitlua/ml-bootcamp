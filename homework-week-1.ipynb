{
 "cells": [
  {
   "cell_type": "code",
   "execution_count": 3,
   "id": "928e9787",
   "metadata": {},
   "outputs": [
    {
     "data": {
      "text/plain": [
       "'1.5.3'"
      ]
     },
     "execution_count": 3,
     "metadata": {},
     "output_type": "execute_result"
    }
   ],
   "source": [
    "import pandas as pd\n",
    "pd.__version__\n"
   ]
  },
  {
   "cell_type": "code",
   "execution_count": 7,
   "id": "e76db03b",
   "metadata": {},
   "outputs": [
    {
     "name": "stdout",
     "output_type": "stream",
     "text": [
      "Number of columns: 10\n"
     ]
    }
   ],
   "source": [
    "import csv\n",
    "\n",
    "FILENAME = 'housing.csv'\n",
    "\n",
    "with open('housing.csv', 'r') as file:\n",
    "    csv_reader = csv.reader(file)\n",
    "    \n",
    "def get_num_columns(filename):\n",
    "    with open(filename, 'r') as file:\n",
    "        csv_reader = csv.reader(file)\n",
    "        max_num_columns = len(next(csv_reader))\n",
    "        return max_num_columns\n",
    "\n",
    "num_columns = get_num_columns(filename)\n",
    "print(\"Number of columns:\", num_columns)"
   ]
  },
  {
   "cell_type": "code",
   "execution_count": 8,
   "id": "d55c675d",
   "metadata": {},
   "outputs": [
    {
     "name": "stdout",
     "output_type": "stream",
     "text": [
      "Columns with missing data:\n",
      "total_bedrooms\n"
     ]
    }
   ],
   "source": [
    "def get_columns_with_missing_data(filename):\n",
    "    columns_with_missing_data = set()\n",
    "    with open(filename, 'r') as file:\n",
    "        csv_reader = csv.reader(file)\n",
    "        # Read the first row to get the column headers\n",
    "        headers = next(csv_reader)\n",
    "        \n",
    "        for row in csv_reader:\n",
    "            # Check each column for missing data\n",
    "            for index, value in enumerate(row):\n",
    "                if not value:\n",
    "                    columns_with_missing_data.add(index)\n",
    "    \n",
    "    # Retrieve the column headers for columns with missing data\n",
    "    headers_with_missing_data = [headers[index] for index in columns_with_missing_data]\n",
    "    return headers_with_missing_data\n",
    "\n",
    "columns_missing_data = get_columns_with_missing_data(FILENAME)\n",
    "\n",
    "print('Columns with missing data:')\n",
    "for column_header in columns_missing_data:\n",
    "    print(column_header)"
   ]
  },
  {
   "cell_type": "code",
   "execution_count": 9,
   "id": "6e29b9bb",
   "metadata": {},
   "outputs": [
    {
     "name": "stdout",
     "output_type": "stream",
     "text": [
      "Unique values for the column with header \"ocean_proximity\":\n",
      "ISLAND\n",
      "NEAR BAY\n",
      "<1H OCEAN\n",
      "INLAND\n",
      "NEAR OCEAN\n"
     ]
    }
   ],
   "source": [
    "def get_unique_values_for_column(filename, header):\n",
    "    unique_values = set()\n",
    "    with open(filename, 'r') as file:\n",
    "        csv_reader = csv.DictReader(file)\n",
    "        for row in csv_reader:\n",
    "            value = row.get(header)\n",
    "            if value:\n",
    "                unique_values.add(value)\n",
    "    return unique_values\n",
    "\n",
    "\n",
    "target_header = 'ocean_proximity'  \n",
    "unique_values = get_unique_values_for_column(filename, target_header)\n",
    "\n",
    "print(f'Unique values for the column with header \"{target_header}\":')\n",
    "for value in unique_values:\n",
    "    print(value)"
   ]
  },
  {
   "cell_type": "code",
   "execution_count": 10,
   "id": "26218fac",
   "metadata": {},
   "outputs": [
    {
     "name": "stdout",
     "output_type": "stream",
     "text": [
      "Average median house value for \"NEAR BAY\": $259212.31\n"
     ]
    }
   ],
   "source": [
    "def calculate_average_median_house_value_near_bay(filename):\n",
    "    total_median_house_value = 0\n",
    "    count_near_bay = 0\n",
    "\n",
    "    with open(filename, 'r') as file:\n",
    "        csv_reader = csv.DictReader(file)\n",
    "        for row in csv_reader:\n",
    "            if row['ocean_proximity'] == 'NEAR BAY':\n",
    "                try:\n",
    "                    total_median_house_value += float(row['median_house_value'])\n",
    "                    count_near_bay += 1\n",
    "                except ValueError:\n",
    "                    # Handle the case where 'median_house_value' is not a valid float\n",
    "                    pass\n",
    "\n",
    "    # Calculate the average median house value for 'NEAR BAY'\n",
    "    average_median_house_value = total_median_house_value / count_near_bay if count_near_bay > 0 else 0\n",
    "\n",
    "    return average_median_house_value\n",
    "\n",
    "average_median_house_value_near_bay = calculate_average_median_house_value_near_bay(FILENAME)\n",
    "\n",
    "print(f'Average median house value for \"NEAR BAY\": ${average_median_house_value_near_bay:.2f}')"
   ]
  },
  {
   "cell_type": "code",
   "execution_count": 11,
   "id": "ff5bbdca",
   "metadata": {},
   "outputs": [
    {
     "name": "stdout",
     "output_type": "stream",
     "text": [
      "Initial average of total_bedrooms: 537.87\n",
      "Average of total_bedrooms after filling missing values: 537.87\n"
     ]
    }
   ],
   "source": [
    "\n",
    "df = pd.read_csv(FILENAME)\n",
    "\n",
    "# Step 1: Calculate the initial average of the 'total_bedrooms' column\n",
    "initial_average = df['total_bedrooms'].mean()\n",
    "\n",
    "# Step 2: Fill missing values in 'total_bedrooms' with the mean value\n",
    "df['total_bedrooms'].fillna(initial_average, inplace=True)\n",
    "\n",
    "# Step 3: Calculate the average of 'total_bedrooms' again after filling missing values\n",
    "average_after_filling = df['total_bedrooms'].mean()\n",
    "\n",
    "print(f'Initial average of total_bedrooms: {initial_average:.2f}')\n",
    "print(f'Average of total_bedrooms after filling missing values: {average_after_filling:.2f}')\n",
    "\n",
    "# Save the DataFrame to a new CSV file with filled missing values\n",
    "df.to_csv('file_with_filled_values.csv', index=False)"
   ]
  },
  {
   "cell_type": "code",
   "execution_count": 12,
   "id": "a6b68cb8",
   "metadata": {},
   "outputs": [
    {
     "name": "stdout",
     "output_type": "stream",
     "text": [
      "The value of the last element of w is: 5.70\n"
     ]
    }
   ],
   "source": [
    "import numpy as np\n",
    "\n",
    "df = pd.read_csv(FILENAME)\n",
    "\n",
    "# Step 1: Select rows with ocean_proximity = 'ISLAND' and specified columns\n",
    "selected_rows = df[df['ocean_proximity'] == 'ISLAND'][['housing_median_age', 'total_rooms', 'total_bedrooms']]\n",
    "\n",
    "# Step 2: Compute the transpose of the selected data and perform matrix-matrix multiplication\n",
    "X = selected_rows.values\n",
    "XTX = X.T @ X\n",
    "\n",
    "# Step 3: Compute the inverse of XTX\n",
    "XTX_inverse = np.linalg.inv(XTX)\n",
    "\n",
    "# Step 4: Create array y\n",
    "y = np.array([950, 1300, 800, 1000, 1300])\n",
    "\n",
    "# Step 5: Calculate w\n",
    "w = XTX_inverse @ X.T @ y\n",
    "\n",
    "# Step 6: Get the value of the last element of w\n",
    "last_element_of_w = w[-1]\n",
    "\n",
    "print(f'The value of the last element of w is: {last_element_of_w:.2f}')\n"
   ]
  },
  {
   "cell_type": "code",
   "execution_count": null,
   "id": "c21725bd",
   "metadata": {},
   "outputs": [],
   "source": []
  }
 ],
 "metadata": {
  "kernelspec": {
   "display_name": "Python 3 (ipykernel)",
   "language": "python",
   "name": "python3"
  },
  "language_info": {
   "codemirror_mode": {
    "name": "ipython",
    "version": 3
   },
   "file_extension": ".py",
   "mimetype": "text/x-python",
   "name": "python",
   "nbconvert_exporter": "python",
   "pygments_lexer": "ipython3",
   "version": "3.11.4"
  }
 },
 "nbformat": 4,
 "nbformat_minor": 5
}
